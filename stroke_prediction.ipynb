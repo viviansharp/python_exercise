{
  "cells": [
    {
      "cell_type": "markdown",
      "metadata": {
        "id": "view-in-github",
        "colab_type": "text"
      },
      "source": [
        "<a href=\"https://colab.research.google.com/github/viviansharp/python_exercise/blob/main/stroke_prediction.ipynb\" target=\"_parent\"><img src=\"https://colab.research.google.com/assets/colab-badge.svg\" alt=\"Open In Colab\"/></a>"
      ]
    },
    {
      "cell_type": "markdown",
      "source": [
        "Stroke is a critical health problem globally. It remains as the second leading cause of death worldwide since 2000 . Apart from that, stroke is the third major cause of disability. Long term disability affects people severely, in terms of their productive life. As such, stroke possesses significant threat to global health.\n",
        "\n",
        "\n",
        "![images (11).jpeg](data:image/jpeg;base64,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)\n",
        "\n",
        "This notebook aims to identify the risk factors for stroke. The patient data was obtained from Kaggle. Methods to ascertain whether a variable is a risk factor were described. Results were visualised and discovered insights were discussed. It is ended with a conclusion and some ideas were suggested for future work.\n",
        "\n"
      ],
      "metadata": {
        "id": "XAZ2wcAwoekh"
      }
    },
    {
      "cell_type": "code",
      "execution_count": null,
      "metadata": {
        "id": "fASp3zG_DFh7"
      },
      "outputs": [],
      "source": [
        "#Descriptive Data Analysis\n",
        "#Import neccessary python libraries\n",
        "import pandas as pd\n",
        "import numpy as np\n",
        "import seaborn as sns\n"
      ]
    },
    {
      "cell_type": "code",
      "execution_count": null,
      "metadata": {
        "colab": {
          "base_uri": "https://localhost:8080/",
          "height": 302
        },
        "id": "qFV6N56VDSIJ",
        "outputId": "6465fdf2-5d04-4ccb-e663-9492dd036009"
      },
      "outputs": [
        {
          "output_type": "execute_result",
          "data": {
            "text/plain": [
              "      id  gender   age  hypertension  heart_disease ever_married  \\\n",
              "0   9046    Male  67.0             0              1          Yes   \n",
              "1  51676  Female  61.0             0              0          Yes   \n",
              "2  31112    Male  80.0             0              1          Yes   \n",
              "3  60182  Female  49.0             0              0          Yes   \n",
              "4   1665  Female  79.0             1              0          Yes   \n",
              "\n",
              "       work_type Residence_type  avg_glucose_level   bmi   smoking_status  \\\n",
              "0        Private          Urban             228.69  36.6  formerly smoked   \n",
              "1  Self-employed          Rural             202.21   NaN     never smoked   \n",
              "2        Private          Rural             105.92  32.5     never smoked   \n",
              "3        Private          Urban             171.23  34.4           smokes   \n",
              "4  Self-employed          Rural             174.12  24.0     never smoked   \n",
              "\n",
              "   stroke  \n",
              "0       1  \n",
              "1       1  \n",
              "2       1  \n",
              "3       1  \n",
              "4       1  "
            ],
            "text/html": [
              "\n",
              "  <div id=\"df-6a1240c7-7900-44d8-87ec-dd0c0bab1a4a\">\n",
              "    <div class=\"colab-df-container\">\n",
              "      <div>\n",
              "<style scoped>\n",
              "    .dataframe tbody tr th:only-of-type {\n",
              "        vertical-align: middle;\n",
              "    }\n",
              "\n",
              "    .dataframe tbody tr th {\n",
              "        vertical-align: top;\n",
              "    }\n",
              "\n",
              "    .dataframe thead th {\n",
              "        text-align: right;\n",
              "    }\n",
              "</style>\n",
              "<table border=\"1\" class=\"dataframe\">\n",
              "  <thead>\n",
              "    <tr style=\"text-align: right;\">\n",
              "      <th></th>\n",
              "      <th>id</th>\n",
              "      <th>gender</th>\n",
              "      <th>age</th>\n",
              "      <th>hypertension</th>\n",
              "      <th>heart_disease</th>\n",
              "      <th>ever_married</th>\n",
              "      <th>work_type</th>\n",
              "      <th>Residence_type</th>\n",
              "      <th>avg_glucose_level</th>\n",
              "      <th>bmi</th>\n",
              "      <th>smoking_status</th>\n",
              "      <th>stroke</th>\n",
              "    </tr>\n",
              "  </thead>\n",
              "  <tbody>\n",
              "    <tr>\n",
              "      <th>0</th>\n",
              "      <td>9046</td>\n",
              "      <td>Male</td>\n",
              "      <td>67.0</td>\n",
              "      <td>0</td>\n",
              "      <td>1</td>\n",
              "      <td>Yes</td>\n",
              "      <td>Private</td>\n",
              "      <td>Urban</td>\n",
              "      <td>228.69</td>\n",
              "      <td>36.6</td>\n",
              "      <td>formerly smoked</td>\n",
              "      <td>1</td>\n",
              "    </tr>\n",
              "    <tr>\n",
              "      <th>1</th>\n",
              "      <td>51676</td>\n",
              "      <td>Female</td>\n",
              "      <td>61.0</td>\n",
              "      <td>0</td>\n",
              "      <td>0</td>\n",
              "      <td>Yes</td>\n",
              "      <td>Self-employed</td>\n",
              "      <td>Rural</td>\n",
              "      <td>202.21</td>\n",
              "      <td>NaN</td>\n",
              "      <td>never smoked</td>\n",
              "      <td>1</td>\n",
              "    </tr>\n",
              "    <tr>\n",
              "      <th>2</th>\n",
              "      <td>31112</td>\n",
              "      <td>Male</td>\n",
              "      <td>80.0</td>\n",
              "      <td>0</td>\n",
              "      <td>1</td>\n",
              "      <td>Yes</td>\n",
              "      <td>Private</td>\n",
              "      <td>Rural</td>\n",
              "      <td>105.92</td>\n",
              "      <td>32.5</td>\n",
              "      <td>never smoked</td>\n",
              "      <td>1</td>\n",
              "    </tr>\n",
              "    <tr>\n",
              "      <th>3</th>\n",
              "      <td>60182</td>\n",
              "      <td>Female</td>\n",
              "      <td>49.0</td>\n",
              "      <td>0</td>\n",
              "      <td>0</td>\n",
              "      <td>Yes</td>\n",
              "      <td>Private</td>\n",
              "      <td>Urban</td>\n",
              "      <td>171.23</td>\n",
              "      <td>34.4</td>\n",
              "      <td>smokes</td>\n",
              "      <td>1</td>\n",
              "    </tr>\n",
              "    <tr>\n",
              "      <th>4</th>\n",
              "      <td>1665</td>\n",
              "      <td>Female</td>\n",
              "      <td>79.0</td>\n",
              "      <td>1</td>\n",
              "      <td>0</td>\n",
              "      <td>Yes</td>\n",
              "      <td>Self-employed</td>\n",
              "      <td>Rural</td>\n",
              "      <td>174.12</td>\n",
              "      <td>24.0</td>\n",
              "      <td>never smoked</td>\n",
              "      <td>1</td>\n",
              "    </tr>\n",
              "  </tbody>\n",
              "</table>\n",
              "</div>\n",
              "      <button class=\"colab-df-convert\" onclick=\"convertToInteractive('df-6a1240c7-7900-44d8-87ec-dd0c0bab1a4a')\"\n",
              "              title=\"Convert this dataframe to an interactive table.\"\n",
              "              style=\"display:none;\">\n",
              "        \n",
              "  <svg xmlns=\"http://www.w3.org/2000/svg\" height=\"24px\"viewBox=\"0 0 24 24\"\n",
              "       width=\"24px\">\n",
              "    <path d=\"M0 0h24v24H0V0z\" fill=\"none\"/>\n",
              "    <path d=\"M18.56 5.44l.94 2.06.94-2.06 2.06-.94-2.06-.94-.94-2.06-.94 2.06-2.06.94zm-11 1L8.5 8.5l.94-2.06 2.06-.94-2.06-.94L8.5 2.5l-.94 2.06-2.06.94zm10 10l.94 2.06.94-2.06 2.06-.94-2.06-.94-.94-2.06-.94 2.06-2.06.94z\"/><path d=\"M17.41 7.96l-1.37-1.37c-.4-.4-.92-.59-1.43-.59-.52 0-1.04.2-1.43.59L10.3 9.45l-7.72 7.72c-.78.78-.78 2.05 0 2.83L4 21.41c.39.39.9.59 1.41.59.51 0 1.02-.2 1.41-.59l7.78-7.78 2.81-2.81c.8-.78.8-2.07 0-2.86zM5.41 20L4 18.59l7.72-7.72 1.47 1.35L5.41 20z\"/>\n",
              "  </svg>\n",
              "      </button>\n",
              "      \n",
              "  <style>\n",
              "    .colab-df-container {\n",
              "      display:flex;\n",
              "      flex-wrap:wrap;\n",
              "      gap: 12px;\n",
              "    }\n",
              "\n",
              "    .colab-df-convert {\n",
              "      background-color: #E8F0FE;\n",
              "      border: none;\n",
              "      border-radius: 50%;\n",
              "      cursor: pointer;\n",
              "      display: none;\n",
              "      fill: #1967D2;\n",
              "      height: 32px;\n",
              "      padding: 0 0 0 0;\n",
              "      width: 32px;\n",
              "    }\n",
              "\n",
              "    .colab-df-convert:hover {\n",
              "      background-color: #E2EBFA;\n",
              "      box-shadow: 0px 1px 2px rgba(60, 64, 67, 0.3), 0px 1px 3px 1px rgba(60, 64, 67, 0.15);\n",
              "      fill: #174EA6;\n",
              "    }\n",
              "\n",
              "    [theme=dark] .colab-df-convert {\n",
              "      background-color: #3B4455;\n",
              "      fill: #D2E3FC;\n",
              "    }\n",
              "\n",
              "    [theme=dark] .colab-df-convert:hover {\n",
              "      background-color: #434B5C;\n",
              "      box-shadow: 0px 1px 3px 1px rgba(0, 0, 0, 0.15);\n",
              "      filter: drop-shadow(0px 1px 2px rgba(0, 0, 0, 0.3));\n",
              "      fill: #FFFFFF;\n",
              "    }\n",
              "  </style>\n",
              "\n",
              "      <script>\n",
              "        const buttonEl =\n",
              "          document.querySelector('#df-6a1240c7-7900-44d8-87ec-dd0c0bab1a4a button.colab-df-convert');\n",
              "        buttonEl.style.display =\n",
              "          google.colab.kernel.accessAllowed ? 'block' : 'none';\n",
              "\n",
              "        async function convertToInteractive(key) {\n",
              "          const element = document.querySelector('#df-6a1240c7-7900-44d8-87ec-dd0c0bab1a4a');\n",
              "          const dataTable =\n",
              "            await google.colab.kernel.invokeFunction('convertToInteractive',\n",
              "                                                     [key], {});\n",
              "          if (!dataTable) return;\n",
              "\n",
              "          const docLinkHtml = 'Like what you see? Visit the ' +\n",
              "            '<a target=\"_blank\" href=https://colab.research.google.com/notebooks/data_table.ipynb>data table notebook</a>'\n",
              "            + ' to learn more about interactive tables.';\n",
              "          element.innerHTML = '';\n",
              "          dataTable['output_type'] = 'display_data';\n",
              "          await google.colab.output.renderOutput(dataTable, element);\n",
              "          const docLink = document.createElement('div');\n",
              "          docLink.innerHTML = docLinkHtml;\n",
              "          element.appendChild(docLink);\n",
              "        }\n",
              "      </script>\n",
              "    </div>\n",
              "  </div>\n",
              "  "
            ]
          },
          "metadata": {},
          "execution_count": 3
        }
      ],
      "source": [
        "#Load the dataset and explore the first 5 rows\n",
        "df=pd.read_csv(\"stroke_data.csv\")\n",
        "df.head()"
      ]
    },
    {
      "cell_type": "code",
      "execution_count": null,
      "metadata": {
        "colab": {
          "base_uri": "https://localhost:8080/"
        },
        "id": "Ht7LxQ2CDizs",
        "outputId": "db0506f8-0d68-4a91-e5b2-35464982262e"
      },
      "outputs": [
        {
          "output_type": "stream",
          "name": "stdout",
          "text": [
            "<class 'pandas.core.frame.DataFrame'>\n",
            "RangeIndex: 5110 entries, 0 to 5109\n",
            "Data columns (total 12 columns):\n",
            " #   Column             Non-Null Count  Dtype  \n",
            "---  ------             --------------  -----  \n",
            " 0   id                 5110 non-null   int64  \n",
            " 1   gender             5110 non-null   object \n",
            " 2   age                5110 non-null   float64\n",
            " 3   hypertension       5110 non-null   int64  \n",
            " 4   heart_disease      5110 non-null   int64  \n",
            " 5   ever_married       5110 non-null   object \n",
            " 6   work_type          5110 non-null   object \n",
            " 7   Residence_type     5110 non-null   object \n",
            " 8   avg_glucose_level  5110 non-null   float64\n",
            " 9   bmi                4909 non-null   float64\n",
            " 10  smoking_status     5110 non-null   object \n",
            " 11  stroke             5110 non-null   int64  \n",
            "dtypes: float64(3), int64(4), object(5)\n",
            "memory usage: 479.2+ KB\n"
          ]
        }
      ],
      "source": [
        "df.info()"
      ]
    },
    {
      "cell_type": "markdown",
      "source": [
        "The dataset consisted of 10 metrics for a total of 5110 patients. These metrics included patients’ demographic data (gender, age, marital status, type of work and residence type) and health records (hypertension, heart disease, average glucose level measured after meal, Body Mass Index (BMI), smoking status and experience of stroke)."
      ],
      "metadata": {
        "id": "eOm1RbelqeA5"
      }
    },
    {
      "cell_type": "code",
      "execution_count": null,
      "metadata": {
        "colab": {
          "base_uri": "https://localhost:8080/",
          "height": 297
        },
        "id": "komVLIcDgfYZ",
        "outputId": "bc2a69db-8ee1-40a2-8790-262e9adc6e8e"
      },
      "outputs": [
        {
          "output_type": "execute_result",
          "data": {
            "text/plain": [
              "                 id          age  hypertension  heart_disease  \\\n",
              "count   5110.000000  5110.000000   5110.000000    5110.000000   \n",
              "mean   36517.829354    43.226614      0.097456       0.054012   \n",
              "std    21161.721625    22.612647      0.296607       0.226063   \n",
              "min       67.000000     0.080000      0.000000       0.000000   \n",
              "25%    17741.250000    25.000000      0.000000       0.000000   \n",
              "50%    36932.000000    45.000000      0.000000       0.000000   \n",
              "75%    54682.000000    61.000000      0.000000       0.000000   \n",
              "max    72940.000000    82.000000      1.000000       1.000000   \n",
              "\n",
              "       avg_glucose_level          bmi       stroke  \n",
              "count        5110.000000  4909.000000  5110.000000  \n",
              "mean          106.147677    28.893237     0.048728  \n",
              "std            45.283560     7.854067     0.215320  \n",
              "min            55.120000    10.300000     0.000000  \n",
              "25%            77.245000    23.500000     0.000000  \n",
              "50%            91.885000    28.100000     0.000000  \n",
              "75%           114.090000    33.100000     0.000000  \n",
              "max           271.740000    97.600000     1.000000  "
            ],
            "text/html": [
              "\n",
              "  <div id=\"df-b50f3850-9eac-4acc-bae5-5599f775ee8a\">\n",
              "    <div class=\"colab-df-container\">\n",
              "      <div>\n",
              "<style scoped>\n",
              "    .dataframe tbody tr th:only-of-type {\n",
              "        vertical-align: middle;\n",
              "    }\n",
              "\n",
              "    .dataframe tbody tr th {\n",
              "        vertical-align: top;\n",
              "    }\n",
              "\n",
              "    .dataframe thead th {\n",
              "        text-align: right;\n",
              "    }\n",
              "</style>\n",
              "<table border=\"1\" class=\"dataframe\">\n",
              "  <thead>\n",
              "    <tr style=\"text-align: right;\">\n",
              "      <th></th>\n",
              "      <th>id</th>\n",
              "      <th>age</th>\n",
              "      <th>hypertension</th>\n",
              "      <th>heart_disease</th>\n",
              "      <th>avg_glucose_level</th>\n",
              "      <th>bmi</th>\n",
              "      <th>stroke</th>\n",
              "    </tr>\n",
              "  </thead>\n",
              "  <tbody>\n",
              "    <tr>\n",
              "      <th>count</th>\n",
              "      <td>5110.000000</td>\n",
              "      <td>5110.000000</td>\n",
              "      <td>5110.000000</td>\n",
              "      <td>5110.000000</td>\n",
              "      <td>5110.000000</td>\n",
              "      <td>4909.000000</td>\n",
              "      <td>5110.000000</td>\n",
              "    </tr>\n",
              "    <tr>\n",
              "      <th>mean</th>\n",
              "      <td>36517.829354</td>\n",
              "      <td>43.226614</td>\n",
              "      <td>0.097456</td>\n",
              "      <td>0.054012</td>\n",
              "      <td>106.147677</td>\n",
              "      <td>28.893237</td>\n",
              "      <td>0.048728</td>\n",
              "    </tr>\n",
              "    <tr>\n",
              "      <th>std</th>\n",
              "      <td>21161.721625</td>\n",
              "      <td>22.612647</td>\n",
              "      <td>0.296607</td>\n",
              "      <td>0.226063</td>\n",
              "      <td>45.283560</td>\n",
              "      <td>7.854067</td>\n",
              "      <td>0.215320</td>\n",
              "    </tr>\n",
              "    <tr>\n",
              "      <th>min</th>\n",
              "      <td>67.000000</td>\n",
              "      <td>0.080000</td>\n",
              "      <td>0.000000</td>\n",
              "      <td>0.000000</td>\n",
              "      <td>55.120000</td>\n",
              "      <td>10.300000</td>\n",
              "      <td>0.000000</td>\n",
              "    </tr>\n",
              "    <tr>\n",
              "      <th>25%</th>\n",
              "      <td>17741.250000</td>\n",
              "      <td>25.000000</td>\n",
              "      <td>0.000000</td>\n",
              "      <td>0.000000</td>\n",
              "      <td>77.245000</td>\n",
              "      <td>23.500000</td>\n",
              "      <td>0.000000</td>\n",
              "    </tr>\n",
              "    <tr>\n",
              "      <th>50%</th>\n",
              "      <td>36932.000000</td>\n",
              "      <td>45.000000</td>\n",
              "      <td>0.000000</td>\n",
              "      <td>0.000000</td>\n",
              "      <td>91.885000</td>\n",
              "      <td>28.100000</td>\n",
              "      <td>0.000000</td>\n",
              "    </tr>\n",
              "    <tr>\n",
              "      <th>75%</th>\n",
              "      <td>54682.000000</td>\n",
              "      <td>61.000000</td>\n",
              "      <td>0.000000</td>\n",
              "      <td>0.000000</td>\n",
              "      <td>114.090000</td>\n",
              "      <td>33.100000</td>\n",
              "      <td>0.000000</td>\n",
              "    </tr>\n",
              "    <tr>\n",
              "      <th>max</th>\n",
              "      <td>72940.000000</td>\n",
              "      <td>82.000000</td>\n",
              "      <td>1.000000</td>\n",
              "      <td>1.000000</td>\n",
              "      <td>271.740000</td>\n",
              "      <td>97.600000</td>\n",
              "      <td>1.000000</td>\n",
              "    </tr>\n",
              "  </tbody>\n",
              "</table>\n",
              "</div>\n",
              "      <button class=\"colab-df-convert\" onclick=\"convertToInteractive('df-b50f3850-9eac-4acc-bae5-5599f775ee8a')\"\n",
              "              title=\"Convert this dataframe to an interactive table.\"\n",
              "              style=\"display:none;\">\n",
              "        \n",
              "  <svg xmlns=\"http://www.w3.org/2000/svg\" height=\"24px\"viewBox=\"0 0 24 24\"\n",
              "       width=\"24px\">\n",
              "    <path d=\"M0 0h24v24H0V0z\" fill=\"none\"/>\n",
              "    <path d=\"M18.56 5.44l.94 2.06.94-2.06 2.06-.94-2.06-.94-.94-2.06-.94 2.06-2.06.94zm-11 1L8.5 8.5l.94-2.06 2.06-.94-2.06-.94L8.5 2.5l-.94 2.06-2.06.94zm10 10l.94 2.06.94-2.06 2.06-.94-2.06-.94-.94-2.06-.94 2.06-2.06.94z\"/><path d=\"M17.41 7.96l-1.37-1.37c-.4-.4-.92-.59-1.43-.59-.52 0-1.04.2-1.43.59L10.3 9.45l-7.72 7.72c-.78.78-.78 2.05 0 2.83L4 21.41c.39.39.9.59 1.41.59.51 0 1.02-.2 1.41-.59l7.78-7.78 2.81-2.81c.8-.78.8-2.07 0-2.86zM5.41 20L4 18.59l7.72-7.72 1.47 1.35L5.41 20z\"/>\n",
              "  </svg>\n",
              "      </button>\n",
              "      \n",
              "  <style>\n",
              "    .colab-df-container {\n",
              "      display:flex;\n",
              "      flex-wrap:wrap;\n",
              "      gap: 12px;\n",
              "    }\n",
              "\n",
              "    .colab-df-convert {\n",
              "      background-color: #E8F0FE;\n",
              "      border: none;\n",
              "      border-radius: 50%;\n",
              "      cursor: pointer;\n",
              "      display: none;\n",
              "      fill: #1967D2;\n",
              "      height: 32px;\n",
              "      padding: 0 0 0 0;\n",
              "      width: 32px;\n",
              "    }\n",
              "\n",
              "    .colab-df-convert:hover {\n",
              "      background-color: #E2EBFA;\n",
              "      box-shadow: 0px 1px 2px rgba(60, 64, 67, 0.3), 0px 1px 3px 1px rgba(60, 64, 67, 0.15);\n",
              "      fill: #174EA6;\n",
              "    }\n",
              "\n",
              "    [theme=dark] .colab-df-convert {\n",
              "      background-color: #3B4455;\n",
              "      fill: #D2E3FC;\n",
              "    }\n",
              "\n",
              "    [theme=dark] .colab-df-convert:hover {\n",
              "      background-color: #434B5C;\n",
              "      box-shadow: 0px 1px 3px 1px rgba(0, 0, 0, 0.15);\n",
              "      filter: drop-shadow(0px 1px 2px rgba(0, 0, 0, 0.3));\n",
              "      fill: #FFFFFF;\n",
              "    }\n",
              "  </style>\n",
              "\n",
              "      <script>\n",
              "        const buttonEl =\n",
              "          document.querySelector('#df-b50f3850-9eac-4acc-bae5-5599f775ee8a button.colab-df-convert');\n",
              "        buttonEl.style.display =\n",
              "          google.colab.kernel.accessAllowed ? 'block' : 'none';\n",
              "\n",
              "        async function convertToInteractive(key) {\n",
              "          const element = document.querySelector('#df-b50f3850-9eac-4acc-bae5-5599f775ee8a');\n",
              "          const dataTable =\n",
              "            await google.colab.kernel.invokeFunction('convertToInteractive',\n",
              "                                                     [key], {});\n",
              "          if (!dataTable) return;\n",
              "\n",
              "          const docLinkHtml = 'Like what you see? Visit the ' +\n",
              "            '<a target=\"_blank\" href=https://colab.research.google.com/notebooks/data_table.ipynb>data table notebook</a>'\n",
              "            + ' to learn more about interactive tables.';\n",
              "          element.innerHTML = '';\n",
              "          dataTable['output_type'] = 'display_data';\n",
              "          await google.colab.output.renderOutput(dataTable, element);\n",
              "          const docLink = document.createElement('div');\n",
              "          docLink.innerHTML = docLinkHtml;\n",
              "          element.appendChild(docLink);\n",
              "        }\n",
              "      </script>\n",
              "    </div>\n",
              "  </div>\n",
              "  "
            ]
          },
          "metadata": {},
          "execution_count": 4
        }
      ],
      "source": [
        "#descriptive statistics\n",
        "df.describe()"
      ]
    },
    {
      "cell_type": "code",
      "source": [
        "#breakdown of stroke attributes\n",
        "df['stroke'].value_counts()"
      ],
      "metadata": {
        "colab": {
          "base_uri": "https://localhost:8080/"
        },
        "id": "EQmO2ksNqLYw",
        "outputId": "a934edf1-180c-4165-806d-52e66f490b23"
      },
      "execution_count": null,
      "outputs": [
        {
          "output_type": "execute_result",
          "data": {
            "text/plain": [
              "0    4861\n",
              "1     249\n",
              "Name: stroke, dtype: int64"
            ]
          },
          "metadata": {},
          "execution_count": 5
        }
      ]
    },
    {
      "cell_type": "markdown",
      "source": [
        "Out of 5110 patients , 249 had stroke while 4861 didnt have the experience.In line with other healthcare datasets, this dataset was highly unbalanced as well."
      ],
      "metadata": {
        "id": "FKWLUlNvrI32"
      }
    },
    {
      "cell_type": "markdown",
      "source": [
        "DATA PREPROCESSING\n",
        "\n",
        "1) ID attribute\n",
        "This attribute was used to identify patients solely and did not have other meaningful information. Hence, the entire column was removed."
      ],
      "metadata": {
        "id": "eS20bPlpsto5"
      }
    },
    {
      "cell_type": "code",
      "execution_count": null,
      "metadata": {
        "id": "PDD4BrrZg_jV"
      },
      "outputs": [],
      "source": [
        "#DROP ID COLUMN\n",
        "df.drop(columns=['id'], inplace=True)\n"
      ]
    },
    {
      "cell_type": "markdown",
      "metadata": {
        "id": "S7IfI9gqg-Lx"
      },
      "source": [
        "2.) BMI Attribute\n",
        "This contains missing values"
      ]
    },
    {
      "cell_type": "code",
      "execution_count": null,
      "metadata": {
        "colab": {
          "base_uri": "https://localhost:8080/"
        },
        "id": "BC89uvEJ7v1C",
        "outputId": "4bb63821-292c-4b62-9bba-fa8af816598f"
      },
      "outputs": [
        {
          "data": {
            "text/plain": [
              "id                   0.000000\n",
              "gender               0.000000\n",
              "age                  0.000000\n",
              "hypertension         0.000000\n",
              "heart_disease        0.000000\n",
              "ever_married         0.000000\n",
              "work_type            0.000000\n",
              "Residence_type       0.000000\n",
              "avg_glucose_level    0.000000\n",
              "bmi                  3.933464\n",
              "smoking_status       0.000000\n",
              "stroke               0.000000\n",
              "dtype: float64"
            ]
          },
          "execution_count": 5,
          "metadata": {},
          "output_type": "execute_result"
        }
      ],
      "source": [
        "df.isnull().sum()/len(df)*100"
      ]
    },
    {
      "cell_type": "code",
      "execution_count": null,
      "metadata": {
        "id": "wE-GDMReiyNA"
      },
      "outputs": [],
      "source": [
        "#use fillna to fill in missing number,you can use the mean of the specified column\n",
        "x = df[\"bmi\"].mean()\n",
        "df[\"bmi\"].fillna(x, inplace = True)"
      ]
    },
    {
      "cell_type": "code",
      "execution_count": null,
      "metadata": {
        "colab": {
          "base_uri": "https://localhost:8080/"
        },
        "id": "06oxHdBZ9jHO",
        "outputId": "d97cf594-a717-4020-e912-2f1967fdb65f"
      },
      "outputs": [
        {
          "output_type": "stream",
          "name": "stdout",
          "text": [
            "<class 'pandas.core.frame.DataFrame'>\n",
            "RangeIndex: 5110 entries, 0 to 5109\n",
            "Data columns (total 11 columns):\n",
            " #   Column             Non-Null Count  Dtype  \n",
            "---  ------             --------------  -----  \n",
            " 0   gender             5110 non-null   object \n",
            " 1   age                5110 non-null   float64\n",
            " 2   hypertension       5110 non-null   int64  \n",
            " 3   heart_disease      5110 non-null   int64  \n",
            " 4   ever_married       5110 non-null   object \n",
            " 5   work_type          5110 non-null   object \n",
            " 6   Residence_type     5110 non-null   object \n",
            " 7   avg_glucose_level  5110 non-null   float64\n",
            " 8   bmi                5110 non-null   float64\n",
            " 9   smoking_status     5110 non-null   object \n",
            " 10  stroke             5110 non-null   int64  \n",
            "dtypes: float64(3), int64(3), object(5)\n",
            "memory usage: 439.3+ KB\n"
          ]
        }
      ],
      "source": [
        "df.info()"
      ]
    },
    {
      "cell_type": "markdown",
      "source": [
        "3.)Gender"
      ],
      "metadata": {
        "id": "mRhJjIWrt_FF"
      }
    },
    {
      "cell_type": "code",
      "execution_count": null,
      "metadata": {
        "id": "zhWaN-FDAN9T",
        "colab": {
          "base_uri": "https://localhost:8080/"
        },
        "outputId": "88acf388-8442-4c4b-a645-1690648491c7"
      },
      "outputs": [
        {
          "output_type": "execute_result",
          "data": {
            "text/plain": [
              "Female    2994\n",
              "Male      2115\n",
              "Other        1\n",
              "Name: gender, dtype: int64"
            ]
          },
          "metadata": {},
          "execution_count": 10
        }
      ],
      "source": [
        "df['gender'].value_counts()"
      ]
    },
    {
      "cell_type": "code",
      "execution_count": null,
      "metadata": {
        "id": "q2cNr0yNAOI-"
      },
      "outputs": [],
      "source": [
        "#drop other category \n",
        "df = df[df['gender'] != 'Other']"
      ]
    },
    {
      "cell_type": "markdown",
      "source": [
        "EXPOLATORY DATA ANALYSIS\n"
      ],
      "metadata": {
        "id": "kyVKqVukvSNu"
      }
    },
    {
      "cell_type": "code",
      "source": [
        "#USING 100% STACKED BAR CHART\n",
        "def get_100_percent_stacked_bar_chart(column, width = 0.5):\n",
        "    # Get the count of records by column and stroke\n",
        "    df_breakdown = df.groupby([column, 'stroke'])['age'].count()\n",
        "    # Get the count of records by gender\n",
        "    df_total = df.groupby([column])['age'].count()\n",
        "    # Get the percentage for 100% stacked bar chart\n",
        "    df_pct = df_breakdown / df_total * 100\n",
        "    # Create proper DataFrame's format\n",
        "    df_pct = df_pct.unstack()\n",
        "    return df_pct.plot.bar(stacked=True, figsize=(6,6), width=width);"
      ],
      "metadata": {
        "id": "zOiHIFC78cQ8"
      },
      "execution_count": null,
      "outputs": []
    },
    {
      "cell_type": "markdown",
      "source": [
        "NUMERICAL ATTRIBUTES"
      ],
      "metadata": {
        "id": "wMh0KPEKvdYc"
      }
    },
    {
      "cell_type": "code",
      "execution_count": null,
      "metadata": {
        "id": "1amA1Pa3AOPm",
        "colab": {
          "base_uri": "https://localhost:8080/",
          "height": 282
        },
        "outputId": "974d4224-fa67-4f88-b6de-6a38c2068bbe"
      },
      "outputs": [
        {
          "output_type": "display_data",
          "data": {
            "text/plain": [
              "<Figure size 432x288 with 2 Axes>"
            ],
            "image/png": "[encoded data removed]"
          },
          "metadata": {
            "needs_background": "light"
          }
        }
      ],
      "source": [
        "# Create the correlation heatmap\n",
        "heatmap = sns.heatmap(df[['age', 'avg_glucose_level', 'bmi']].corr(), vmin=-1, vmax=1, annot=True)\n",
        "# Create the title\n",
        "heatmap.set_title('Correlation Heatmap');"
      ]
    },
    {
      "cell_type": "code",
      "execution_count": null,
      "metadata": {
        "colab": {
          "base_uri": "https://localhost:8080/",
          "height": 632
        },
        "id": "SxO7C0N3AOUK",
        "outputId": "82396c32-3263-41e2-ec7f-60274a9b2e27"
      },
      "outputs": [
        {
          "data": {
            "image/png": "[encoded data removed]",
            "text/plain": [
              "<Figure size 720x720 with 1 Axes>"
            ]
          },
          "metadata": {},
          "output_type": "display_data"
        }
      ],
      "source": [
        "df.plot(kind='scatter',x='age',y=\"bmi\",figsize=(10,10))\n",
        "font1 = {'family':'serif','color':'blue','size':20}\n",
        "font2 = {'family':'serif','color':'darkred','size':15}\n",
        "plt.title(\"AGE VS BMI\",fontdict=font2, loc=\"right\")\n",
        "plt.xlabel(\"AGE\",fontdict=font1)\n",
        "plt.ylabel(\"BMI\",fontdict=font2)\n",
        "plt.grid(color = 'green', linestyle = '--', linewidth = 0.5) #plt.grid(axis='x' / axis='y')\n",
        "plt.show()"
      ]
    },
    {
      "cell_type": "markdown",
      "source": [
        "Insight #1: It seemed like both BMI and Age were positively correlated, though the association was not strong."
      ],
      "metadata": {
        "id": "hMFw17Zdv9Au"
      }
    },
    {
      "cell_type": "markdown",
      "source": [
        "Numerical Attributes vs Stroke"
      ],
      "metadata": {
        "id": "Y-eV6iQNwsxE"
      }
    },
    {
      "cell_type": "markdown",
      "source": [
        "1) AGE VS STROKE"
      ],
      "metadata": {
        "id": "pEndcRmzw5P5"
      }
    },
    {
      "cell_type": "code",
      "source": [
        "sns.stripplot(x=\"stroke\",y=\"age\",data=df)"
      ],
      "metadata": {
        "colab": {
          "base_uri": "https://localhost:8080/",
          "height": 296
        },
        "id": "xYjtvGQiv7J_",
        "outputId": "a978a8ce-a290-4338-dbc3-3b6e63a57251"
      },
      "execution_count": null,
      "outputs": [
        {
          "output_type": "execute_result",
          "data": {
            "text/plain": [
              "<matplotlib.axes._subplots.AxesSubplot at 0x7f8fc94a1b50>"
            ]
          },
          "metadata": {},
          "execution_count": 20
        },
        {
          "output_type": "display_data",
          "data": {
            "text/plain": [
              "<Figure size 432x288 with 1 Axes>"
            ],
            "image/png": "[encoded data removed]"
          },
          "metadata": {
            "needs_background": "light"
          }
        }
      ]
    },
    {
      "cell_type": "code",
      "execution_count": null,
      "metadata": {
        "colab": {
          "base_uri": "https://localhost:8080/",
          "height": 296
        },
        "id": "V0qdqhK6GEHf",
        "outputId": "d3c0f663-6272-4f0c-c7ab-870f86e421bf"
      },
      "outputs": [
        {
          "output_type": "execute_result",
          "data": {
            "text/plain": [
              "<matplotlib.axes._subplots.AxesSubplot at 0x7f8fc9080450>"
            ]
          },
          "metadata": {},
          "execution_count": 22
        },
        {
          "output_type": "display_data",
          "data": {
            "text/plain": [
              "<Figure size 432x288 with 1 Axes>"
            ],
            "image/png": "[encoded data removed]"
          },
          "metadata": {
            "needs_background": "light"
          }
        }
      ],
      "source": [
        "\n",
        "sns.barplot(x=\"stroke\",y='age',data=df)"
      ]
    },
    {
      "cell_type": "markdown",
      "source": [
        "The risk of experiencing a stroke increased as patient’s age advanced.\n",
        "\n",
        "Insight #2: Older patient was more likely to suffer a stroke than a younger patient."
      ],
      "metadata": {
        "id": "PIhMxsr91Ww7"
      }
    },
    {
      "cell_type": "markdown",
      "source": [
        "2.)BMI VS STROKE"
      ],
      "metadata": {
        "id": "ycAHH54b1g9c"
      }
    },
    {
      "cell_type": "code",
      "execution_count": null,
      "metadata": {
        "colab": {
          "base_uri": "https://localhost:8080/",
          "height": 296
        },
        "id": "L3AAHkrsIo_c",
        "outputId": "005b0bc5-a09a-4da5-b245-1f39aaca26ef"
      },
      "outputs": [
        {
          "output_type": "execute_result",
          "data": {
            "text/plain": [
              "<matplotlib.axes._subplots.AxesSubplot at 0x7f8fc902dc90>"
            ]
          },
          "metadata": {},
          "execution_count": 23
        },
        {
          "output_type": "display_data",
          "data": {
            "text/plain": [
              "<Figure size 432x288 with 1 Axes>"
            ],
            "image/png": "[encoded data removed]"
          },
          "metadata": {
            "needs_background": "light"
          }
        }
      ],
      "source": [
        "sns.stripplot(x=\"stroke\",y=\"bmi\",data=df)"
      ]
    },
    {
      "cell_type": "code",
      "execution_count": null,
      "metadata": {
        "colab": {
          "base_uri": "https://localhost:8080/",
          "height": 296
        },
        "id": "zEywsWEJpGpv",
        "outputId": "563b1158-24fe-429a-9857-19512e7045a4"
      },
      "outputs": [
        {
          "output_type": "execute_result",
          "data": {
            "text/plain": [
              "<matplotlib.axes._subplots.AxesSubplot at 0x7f8fc8f484d0>"
            ]
          },
          "metadata": {},
          "execution_count": 24
        },
        {
          "output_type": "display_data",
          "data": {
            "text/plain": [
              "<Figure size 432x288 with 1 Axes>"
            ],
            "image/png": "[encoded data removed]"
          },
          "metadata": {
            "needs_background": "light"
          }
        }
      ],
      "source": [
        "sns.barplot(x=\"stroke\",y='bmi',data=df)"
      ]
    },
    {
      "cell_type": "markdown",
      "source": [
        "Percentage of patient who had BMI between 25 and 35 was the highest to suffer a stroke than patients from other groups.\n",
        "\n",
        "Insight #3: Higher BMI does not increase the stroke risk.\n",
        "\n"
      ],
      "metadata": {
        "id": "x5MW5jtW2DGQ"
      }
    },
    {
      "cell_type": "markdown",
      "source": [
        "Average glucose level vs Stroke\n"
      ],
      "metadata": {
        "id": "3dbVPwqj2E_q"
      }
    },
    {
      "cell_type": "code",
      "execution_count": null,
      "metadata": {
        "colab": {
          "base_uri": "https://localhost:8080/",
          "height": 296
        },
        "id": "K9InRo7J0EsS",
        "outputId": "78cdb0e7-e468-4734-ef87-26997ae6eb90"
      },
      "outputs": [
        {
          "output_type": "execute_result",
          "data": {
            "text/plain": [
              "<matplotlib.axes._subplots.AxesSubplot at 0x7f8fc8eae2d0>"
            ]
          },
          "metadata": {},
          "execution_count": 26
        },
        {
          "output_type": "display_data",
          "data": {
            "text/plain": [
              "<Figure size 432x288 with 1 Axes>"
            ],
            "image/png": "[encoded data removed]"
          },
          "metadata": {
            "needs_background": "light"
          }
        }
      ],
      "source": [
        "#matplotlib tutorial\n",
        "sns.stripplot(x=\"stroke\",y =\"avg_glucose_level\",data=df)"
      ]
    },
    {
      "cell_type": "code",
      "execution_count": null,
      "metadata": {
        "id": "zvtGAwr90FId",
        "colab": {
          "base_uri": "https://localhost:8080/",
          "height": 296
        },
        "outputId": "c0a42905-d161-45f5-9b91-2585526b938c"
      },
      "outputs": [
        {
          "output_type": "execute_result",
          "data": {
            "text/plain": [
              "<matplotlib.axes._subplots.AxesSubplot at 0x7f8fc8e99790>"
            ]
          },
          "metadata": {},
          "execution_count": 28
        },
        {
          "output_type": "display_data",
          "data": {
            "text/plain": [
              "<Figure size 432x288 with 1 Axes>"
            ],
            "image/png": "[encoded data removed]"
          },
          "metadata": {
            "needs_background": "light"
          }
        }
      ],
      "source": [
        "sns.barplot(x=\"stroke\",y=\"avg_glucose_level\",data=df)"
      ]
    },
    {
      "cell_type": "markdown",
      "source": [
        "Higher proportion of patient who had average glucose level measured after meal of more than 150mg/dL (milligrams per decilitre) suffered a stroke. This observation can be explained by the presence of diabetes. Diabetes was present in patient who had reading of more than 200mg/dL. Pre-diabetes was also considered in patient if the reading was between 140–199mg/dL.\n",
        "\n",
        "Insight #4: Diabetes is one of the risk factors for stroke occurrence and prediabetes patients have an increased risk of stroke."
      ],
      "metadata": {
        "id": "o_DVc51Y4dfE"
      }
    },
    {
      "cell_type": "markdown",
      "source": [
        "CATEGORICAL VARIABLES"
      ],
      "metadata": {
        "id": "HGRGxgyr5SHK"
      }
    },
    {
      "cell_type": "markdown",
      "source": [
        "1)Hypertension vs Stroke"
      ],
      "metadata": {
        "id": "V4gi_Gmw5VWP"
      }
    },
    {
      "cell_type": "code",
      "execution_count": null,
      "metadata": {
        "id": "XPLfip_F0FPu",
        "colab": {
          "base_uri": "https://localhost:8080/",
          "height": 296
        },
        "outputId": "eb834754-497c-440c-c979-2389fa216b57"
      },
      "outputs": [
        {
          "output_type": "execute_result",
          "data": {
            "text/plain": [
              "<matplotlib.axes._subplots.AxesSubplot at 0x7f8fc75a7c10>"
            ]
          },
          "metadata": {},
          "execution_count": 29
        },
        {
          "output_type": "display_data",
          "data": {
            "text/plain": [
              "<Figure size 432x288 with 1 Axes>"
            ],
            "image/png": "[encoded data removed]"
          },
          "metadata": {
            "needs_background": "light"
          }
        }
      ],
      "source": [
        "sns.barplot(x=\"stroke\",y=\"hypertension\",data=df)"
      ]
    },
    {
      "cell_type": "code",
      "source": [
        "get_100_percent_stacked_bar_chart('hypertension')\n",
        "get_100_percent_stacked_bar_chart('heart_disease')"
      ],
      "metadata": {
        "colab": {
          "base_uri": "https://localhost:8080/",
          "height": 769
        },
        "id": "FYIhUj7p8GQ0",
        "outputId": "4ed2f68a-e906-4488-8d3c-8a3ef1188812"
      },
      "execution_count": null,
      "outputs": [
        {
          "output_type": "execute_result",
          "data": {
            "text/plain": [
              "<matplotlib.axes._subplots.AxesSubplot at 0x7f8fc729d9d0>"
            ]
          },
          "metadata": {},
          "execution_count": 33
        },
        {
          "output_type": "display_data",
          "data": {
            "text/plain": [
              "<Figure size 432x432 with 1 Axes>"
            ],
            "image/png": "[encoded data removed]"
          },
          "metadata": {
            "needs_background": "light"
          }
        },
        {
          "output_type": "display_data",
          "data": {
            "text/plain": [
              "<Figure size 432x432 with 1 Axes>"
            ],
            "image/png": "[encoded data removed]"
          },
          "metadata": {
            "needs_background": "light"
          }
        }
      ]
    },
    {
      "cell_type": "markdown",
      "source": [
        "Insight #5: Higher proportion of patients who suffered from hypertension or heart disease experienced a stroke, all else being equal.\n",
        "\n"
      ],
      "metadata": {
        "id": "HAuVWKL89rpn"
      }
    },
    {
      "cell_type": "markdown",
      "source": [
        "2)Gender , residence type vs stroke"
      ],
      "metadata": {
        "id": "L_hkAiiP910S"
      }
    },
    {
      "cell_type": "code",
      "execution_count": null,
      "metadata": {
        "colab": {
          "base_uri": "https://localhost:8080/",
          "height": 350
        },
        "id": "YZGyohPpDl23",
        "outputId": "ef23a55e-c24e-42af-c594-bc89c523e98c"
      },
      "outputs": [
        {
          "name": "stderr",
          "output_type": "stream",
          "text": [
            "/usr/local/lib/python3.7/dist-packages/seaborn/_decorators.py:43: FutureWarning: Pass the following variable as a keyword arg: x. From version 0.12, the only valid positional argument will be `data`, and passing other arguments without an explicit keyword will result in an error or misinterpretation.\n",
            "  FutureWarning\n"
          ]
        },
        {
          "data": {
            "text/plain": [
              "<matplotlib.axes._subplots.AxesSubplot at 0x7fa6b23196d0>"
            ]
          },
          "execution_count": 9,
          "metadata": {},
          "output_type": "execute_result"
        },
        {
          "data": {
            "image/png": "[encoded data removed]",
            "text/plain": [
              "<Figure size 432x288 with 1 Axes>"
            ]
          },
          "metadata": {},
          "output_type": "display_data"
        }
      ],
      "source": [
        "sns.countplot(df[\"gender\"])"
      ]
    },
    {
      "cell_type": "code",
      "source": [
        "sns.barplot(x=\"stroke\",y=\"gender\",data=df)"
      ],
      "metadata": {
        "colab": {
          "base_uri": "https://localhost:8080/",
          "height": 296
        },
        "id": "qN8zodK0Z3D5",
        "outputId": "35fb78d2-7791-4d57-fff4-4b3ebbcd6ece"
      },
      "execution_count": null,
      "outputs": [
        {
          "output_type": "execute_result",
          "data": {
            "text/plain": [
              "<matplotlib.axes._subplots.AxesSubplot at 0x7fe9d9b0b490>"
            ]
          },
          "metadata": {},
          "execution_count": 5
        },
        {
          "output_type": "display_data",
          "data": {
            "text/plain": [
              "<Figure size 432x288 with 1 Axes>"
            ],
            "image/png": "[encoded data removed]"
          },
          "metadata": {
            "needs_background": "light"
          }
        }
      ]
    },
    {
      "cell_type": "code",
      "execution_count": null,
      "metadata": {
        "colab": {
          "base_uri": "https://localhost:8080/",
          "height": 351
        },
        "id": "skZKDi_nPmQh",
        "outputId": "d0ecce26-f9ec-4132-cd06-186b89b6cdc7"
      },
      "outputs": [
        {
          "output_type": "stream",
          "name": "stderr",
          "text": [
            "/usr/local/lib/python3.7/dist-packages/seaborn/_decorators.py:43: FutureWarning: Pass the following variable as a keyword arg: x. From version 0.12, the only valid positional argument will be `data`, and passing other arguments without an explicit keyword will result in an error or misinterpretation.\n",
            "  FutureWarning\n"
          ]
        },
        {
          "output_type": "execute_result",
          "data": {
            "text/plain": [
              "<matplotlib.axes._subplots.AxesSubplot at 0x7f8fc71152d0>"
            ]
          },
          "metadata": {},
          "execution_count": 35
        },
        {
          "output_type": "display_data",
          "data": {
            "text/plain": [
              "<Figure size 432x288 with 1 Axes>"
            ],
            "image/png": "[encoded data removed]"
          },
          "metadata": {
            "needs_background": "light"
          }
        }
      ],
      "source": [
        "sns.countplot(df[\"Residence_type\"])"
      ]
    },
    {
      "cell_type": "code",
      "execution_count": null,
      "metadata": {
        "id": "fYGHjGqRP1bF",
        "colab": {
          "base_uri": "https://localhost:8080/",
          "height": 823
        },
        "outputId": "c6b6ba5b-e632-45d8-b144-97cfa02ad492"
      },
      "outputs": [
        {
          "output_type": "execute_result",
          "data": {
            "text/plain": [
              "<matplotlib.axes._subplots.AxesSubplot at 0x7f8fc718dcd0>"
            ]
          },
          "metadata": {},
          "execution_count": 34
        },
        {
          "output_type": "display_data",
          "data": {
            "text/plain": [
              "<Figure size 432x432 with 1 Axes>"
            ],
            "image/png": "[encoded data removed]"
          },
          "metadata": {
            "needs_background": "light"
          }
        },
        {
          "output_type": "display_data",
          "data": {
            "text/plain": [
              "<Figure size 432x432 with 1 Axes>"
            ],
            "image/png": "[encoded data removed]"
          },
          "metadata": {
            "needs_background": "light"
          }
        }
      ],
      "source": [
        "get_100_percent_stacked_bar_chart('gender')\n",
        "get_100_percent_stacked_bar_chart('Residence_type')"
      ]
    },
    {
      "cell_type": "markdown",
      "source": [
        "Insight #6: Regardless of patient’s gender, and where they stayed, they have the same likelihood to experience stroke."
      ],
      "metadata": {
        "id": "cRlBbA7i-Zuo"
      }
    },
    {
      "cell_type": "markdown",
      "source": [
        "3) Age,work_type vs stroke"
      ],
      "metadata": {
        "id": "1EwLiSnA-dq8"
      }
    },
    {
      "cell_type": "code",
      "source": [
        "get_100_percent_stacked_bar_chart('work_type')\n",
        "df.groupby(['work_type'])[['age']].agg(['count', 'mean'])"
      ],
      "metadata": {
        "colab": {
          "base_uri": "https://localhost:8080/",
          "height": 699
        },
        "id": "DXEDFqFv-2GC",
        "outputId": "fe261c34-f231-40fd-94e4-c4b7441e1659"
      },
      "execution_count": null,
      "outputs": [
        {
          "output_type": "execute_result",
          "data": {
            "text/plain": [
              "                age           \n",
              "              count       mean\n",
              "work_type                     \n",
              "Govt_job        657  50.879756\n",
              "Never_worked     22  16.181818\n",
              "Private        2924  45.510602\n",
              "Self-employed   819  60.201465\n",
              "children        687   6.841339"
            ],
            "text/html": [
              "\n",
              "  <div id=\"df-d2aa037d-17d7-4b89-8858-e8c74c0323df\">\n",
              "    <div class=\"colab-df-container\">\n",
              "      <div>\n",
              "<style scoped>\n",
              "    .dataframe tbody tr th:only-of-type {\n",
              "        vertical-align: middle;\n",
              "    }\n",
              "\n",
              "    .dataframe tbody tr th {\n",
              "        vertical-align: top;\n",
              "    }\n",
              "\n",
              "    .dataframe thead tr th {\n",
              "        text-align: left;\n",
              "    }\n",
              "\n",
              "    .dataframe thead tr:last-of-type th {\n",
              "        text-align: right;\n",
              "    }\n",
              "</style>\n",
              "<table border=\"1\" class=\"dataframe\">\n",
              "  <thead>\n",
              "    <tr>\n",
              "      <th></th>\n",
              "      <th colspan=\"2\" halign=\"left\">age</th>\n",
              "    </tr>\n",
              "    <tr>\n",
              "      <th></th>\n",
              "      <th>count</th>\n",
              "      <th>mean</th>\n",
              "    </tr>\n",
              "    <tr>\n",
              "      <th>work_type</th>\n",
              "      <th></th>\n",
              "      <th></th>\n",
              "    </tr>\n",
              "  </thead>\n",
              "  <tbody>\n",
              "    <tr>\n",
              "      <th>Govt_job</th>\n",
              "      <td>657</td>\n",
              "      <td>50.879756</td>\n",
              "    </tr>\n",
              "    <tr>\n",
              "      <th>Never_worked</th>\n",
              "      <td>22</td>\n",
              "      <td>16.181818</td>\n",
              "    </tr>\n",
              "    <tr>\n",
              "      <th>Private</th>\n",
              "      <td>2924</td>\n",
              "      <td>45.510602</td>\n",
              "    </tr>\n",
              "    <tr>\n",
              "      <th>Self-employed</th>\n",
              "      <td>819</td>\n",
              "      <td>60.201465</td>\n",
              "    </tr>\n",
              "    <tr>\n",
              "      <th>children</th>\n",
              "      <td>687</td>\n",
              "      <td>6.841339</td>\n",
              "    </tr>\n",
              "  </tbody>\n",
              "</table>\n",
              "</div>\n",
              "      <button class=\"colab-df-convert\" onclick=\"convertToInteractive('df-d2aa037d-17d7-4b89-8858-e8c74c0323df')\"\n",
              "              title=\"Convert this dataframe to an interactive table.\"\n",
              "              style=\"display:none;\">\n",
              "        \n",
              "  <svg xmlns=\"http://www.w3.org/2000/svg\" height=\"24px\"viewBox=\"0 0 24 24\"\n",
              "       width=\"24px\">\n",
              "    <path d=\"M0 0h24v24H0V0z\" fill=\"none\"/>\n",
              "    <path d=\"M18.56 5.44l.94 2.06.94-2.06 2.06-.94-2.06-.94-.94-2.06-.94 2.06-2.06.94zm-11 1L8.5 8.5l.94-2.06 2.06-.94-2.06-.94L8.5 2.5l-.94 2.06-2.06.94zm10 10l.94 2.06.94-2.06 2.06-.94-2.06-.94-.94-2.06-.94 2.06-2.06.94z\"/><path d=\"M17.41 7.96l-1.37-1.37c-.4-.4-.92-.59-1.43-.59-.52 0-1.04.2-1.43.59L10.3 9.45l-7.72 7.72c-.78.78-.78 2.05 0 2.83L4 21.41c.39.39.9.59 1.41.59.51 0 1.02-.2 1.41-.59l7.78-7.78 2.81-2.81c.8-.78.8-2.07 0-2.86zM5.41 20L4 18.59l7.72-7.72 1.47 1.35L5.41 20z\"/>\n",
              "  </svg>\n",
              "      </button>\n",
              "      \n",
              "  <style>\n",
              "    .colab-df-container {\n",
              "      display:flex;\n",
              "      flex-wrap:wrap;\n",
              "      gap: 12px;\n",
              "    }\n",
              "\n",
              "    .colab-df-convert {\n",
              "      background-color: #E8F0FE;\n",
              "      border: none;\n",
              "      border-radius: 50%;\n",
              "      cursor: pointer;\n",
              "      display: none;\n",
              "      fill: #1967D2;\n",
              "      height: 32px;\n",
              "      padding: 0 0 0 0;\n",
              "      width: 32px;\n",
              "    }\n",
              "\n",
              "    .colab-df-convert:hover {\n",
              "      background-color: #E2EBFA;\n",
              "      box-shadow: 0px 1px 2px rgba(60, 64, 67, 0.3), 0px 1px 3px 1px rgba(60, 64, 67, 0.15);\n",
              "      fill: #174EA6;\n",
              "    }\n",
              "\n",
              "    [theme=dark] .colab-df-convert {\n",
              "      background-color: #3B4455;\n",
              "      fill: #D2E3FC;\n",
              "    }\n",
              "\n",
              "    [theme=dark] .colab-df-convert:hover {\n",
              "      background-color: #434B5C;\n",
              "      box-shadow: 0px 1px 3px 1px rgba(0, 0, 0, 0.15);\n",
              "      filter: drop-shadow(0px 1px 2px rgba(0, 0, 0, 0.3));\n",
              "      fill: #FFFFFF;\n",
              "    }\n",
              "  </style>\n",
              "\n",
              "      <script>\n",
              "        const buttonEl =\n",
              "          document.querySelector('#df-d2aa037d-17d7-4b89-8858-e8c74c0323df button.colab-df-convert');\n",
              "        buttonEl.style.display =\n",
              "          google.colab.kernel.accessAllowed ? 'block' : 'none';\n",
              "\n",
              "        async function convertToInteractive(key) {\n",
              "          const element = document.querySelector('#df-d2aa037d-17d7-4b89-8858-e8c74c0323df');\n",
              "          const dataTable =\n",
              "            await google.colab.kernel.invokeFunction('convertToInteractive',\n",
              "                                                     [key], {});\n",
              "          if (!dataTable) return;\n",
              "\n",
              "          const docLinkHtml = 'Like what you see? Visit the ' +\n",
              "            '<a target=\"_blank\" href=https://colab.research.google.com/notebooks/data_table.ipynb>data table notebook</a>'\n",
              "            + ' to learn more about interactive tables.';\n",
              "          element.innerHTML = '';\n",
              "          dataTable['output_type'] = 'display_data';\n",
              "          await google.colab.output.renderOutput(dataTable, element);\n",
              "          const docLink = document.createElement('div');\n",
              "          docLink.innerHTML = docLinkHtml;\n",
              "          element.appendChild(docLink);\n",
              "        }\n",
              "      </script>\n",
              "    </div>\n",
              "  </div>\n",
              "  "
            ]
          },
          "metadata": {},
          "execution_count": 36
        },
        {
          "output_type": "display_data",
          "data": {
            "text/plain": [
              "<Figure size 432x432 with 1 Axes>"
            ],
            "image/png": "[encoded data removed]"
          },
          "metadata": {
            "needs_background": "light"
          }
        }
      ]
    },
    {
      "cell_type": "markdown",
      "source": [
        "patient who was self-employed and suffered a stroke was relatively higher than other categories. However, this variable was highly associated with age.\n",
        "\n",
        "Both never worked and children categories were pretty self-explanatory. Almost non-existent stroke was recorded due to lower average age. On the other hand, the mean age of patients who were self-employed was 59.3 years old.This corroborate our insight #1\n",
        "\n",
        "Insight #7: Work type variable was highly associated with age.\n",
        "\n"
      ],
      "metadata": {
        "id": "MHZRyRGG--12"
      }
    },
    {
      "cell_type": "markdown",
      "source": [
        "4) Ever married vs stroke"
      ],
      "metadata": {
        "id": "LGVgWtUl_V2k"
      }
    },
    {
      "cell_type": "code",
      "source": [
        "get_100_percent_stacked_bar_chart('ever_married')\n",
        "df.groupby(['ever_married'])[['age']].agg(['count', 'mean'])"
      ],
      "metadata": {
        "colab": {
          "base_uri": "https://localhost:8080/",
          "height": 551
        },
        "id": "WD_N5QnH_UpJ",
        "outputId": "49008c6f-0071-4e4e-c02b-9eef52d1b81c"
      },
      "execution_count": null,
      "outputs": [
        {
          "output_type": "execute_result",
          "data": {
            "text/plain": [
              "               age           \n",
              "             count       mean\n",
              "ever_married                 \n",
              "No            1756  22.011959\n",
              "Yes           3353  54.342082"
            ],
            "text/html": [
              "\n",
              "  <div id=\"df-dc13dd47-ae93-4566-b875-80a88c6919de\">\n",
              "    <div class=\"colab-df-container\">\n",
              "      <div>\n",
              "<style scoped>\n",
              "    .dataframe tbody tr th:only-of-type {\n",
              "        vertical-align: middle;\n",
              "    }\n",
              "\n",
              "    .dataframe tbody tr th {\n",
              "        vertical-align: top;\n",
              "    }\n",
              "\n",
              "    .dataframe thead tr th {\n",
              "        text-align: left;\n",
              "    }\n",
              "\n",
              "    .dataframe thead tr:last-of-type th {\n",
              "        text-align: right;\n",
              "    }\n",
              "</style>\n",
              "<table border=\"1\" class=\"dataframe\">\n",
              "  <thead>\n",
              "    <tr>\n",
              "      <th></th>\n",
              "      <th colspan=\"2\" halign=\"left\">age</th>\n",
              "    </tr>\n",
              "    <tr>\n",
              "      <th></th>\n",
              "      <th>count</th>\n",
              "      <th>mean</th>\n",
              "    </tr>\n",
              "    <tr>\n",
              "      <th>ever_married</th>\n",
              "      <th></th>\n",
              "      <th></th>\n",
              "    </tr>\n",
              "  </thead>\n",
              "  <tbody>\n",
              "    <tr>\n",
              "      <th>No</th>\n",
              "      <td>1756</td>\n",
              "      <td>22.011959</td>\n",
              "    </tr>\n",
              "    <tr>\n",
              "      <th>Yes</th>\n",
              "      <td>3353</td>\n",
              "      <td>54.342082</td>\n",
              "    </tr>\n",
              "  </tbody>\n",
              "</table>\n",
              "</div>\n",
              "      <button class=\"colab-df-convert\" onclick=\"convertToInteractive('df-dc13dd47-ae93-4566-b875-80a88c6919de')\"\n",
              "              title=\"Convert this dataframe to an interactive table.\"\n",
              "              style=\"display:none;\">\n",
              "        \n",
              "  <svg xmlns=\"http://www.w3.org/2000/svg\" height=\"24px\"viewBox=\"0 0 24 24\"\n",
              "       width=\"24px\">\n",
              "    <path d=\"M0 0h24v24H0V0z\" fill=\"none\"/>\n",
              "    <path d=\"M18.56 5.44l.94 2.06.94-2.06 2.06-.94-2.06-.94-.94-2.06-.94 2.06-2.06.94zm-11 1L8.5 8.5l.94-2.06 2.06-.94-2.06-.94L8.5 2.5l-.94 2.06-2.06.94zm10 10l.94 2.06.94-2.06 2.06-.94-2.06-.94-.94-2.06-.94 2.06-2.06.94z\"/><path d=\"M17.41 7.96l-1.37-1.37c-.4-.4-.92-.59-1.43-.59-.52 0-1.04.2-1.43.59L10.3 9.45l-7.72 7.72c-.78.78-.78 2.05 0 2.83L4 21.41c.39.39.9.59 1.41.59.51 0 1.02-.2 1.41-.59l7.78-7.78 2.81-2.81c.8-.78.8-2.07 0-2.86zM5.41 20L4 18.59l7.72-7.72 1.47 1.35L5.41 20z\"/>\n",
              "  </svg>\n",
              "      </button>\n",
              "      \n",
              "  <style>\n",
              "    .colab-df-container {\n",
              "      display:flex;\n",
              "      flex-wrap:wrap;\n",
              "      gap: 12px;\n",
              "    }\n",
              "\n",
              "    .colab-df-convert {\n",
              "      background-color: #E8F0FE;\n",
              "      border: none;\n",
              "      border-radius: 50%;\n",
              "      cursor: pointer;\n",
              "      display: none;\n",
              "      fill: #1967D2;\n",
              "      height: 32px;\n",
              "      padding: 0 0 0 0;\n",
              "      width: 32px;\n",
              "    }\n",
              "\n",
              "    .colab-df-convert:hover {\n",
              "      background-color: #E2EBFA;\n",
              "      box-shadow: 0px 1px 2px rgba(60, 64, 67, 0.3), 0px 1px 3px 1px rgba(60, 64, 67, 0.15);\n",
              "      fill: #174EA6;\n",
              "    }\n",
              "\n",
              "    [theme=dark] .colab-df-convert {\n",
              "      background-color: #3B4455;\n",
              "      fill: #D2E3FC;\n",
              "    }\n",
              "\n",
              "    [theme=dark] .colab-df-convert:hover {\n",
              "      background-color: #434B5C;\n",
              "      box-shadow: 0px 1px 3px 1px rgba(0, 0, 0, 0.15);\n",
              "      filter: drop-shadow(0px 1px 2px rgba(0, 0, 0, 0.3));\n",
              "      fill: #FFFFFF;\n",
              "    }\n",
              "  </style>\n",
              "\n",
              "      <script>\n",
              "        const buttonEl =\n",
              "          document.querySelector('#df-dc13dd47-ae93-4566-b875-80a88c6919de button.colab-df-convert');\n",
              "        buttonEl.style.display =\n",
              "          google.colab.kernel.accessAllowed ? 'block' : 'none';\n",
              "\n",
              "        async function convertToInteractive(key) {\n",
              "          const element = document.querySelector('#df-dc13dd47-ae93-4566-b875-80a88c6919de');\n",
              "          const dataTable =\n",
              "            await google.colab.kernel.invokeFunction('convertToInteractive',\n",
              "                                                     [key], {});\n",
              "          if (!dataTable) return;\n",
              "\n",
              "          const docLinkHtml = 'Like what you see? Visit the ' +\n",
              "            '<a target=\"_blank\" href=https://colab.research.google.com/notebooks/data_table.ipynb>data table notebook</a>'\n",
              "            + ' to learn more about interactive tables.';\n",
              "          element.innerHTML = '';\n",
              "          dataTable['output_type'] = 'display_data';\n",
              "          await google.colab.output.renderOutput(dataTable, element);\n",
              "          const docLink = document.createElement('div');\n",
              "          docLink.innerHTML = docLinkHtml;\n",
              "          element.appendChild(docLink);\n",
              "        }\n",
              "      </script>\n",
              "    </div>\n",
              "  </div>\n",
              "  "
            ]
          },
          "metadata": {},
          "execution_count": 37
        },
        {
          "output_type": "display_data",
          "data": {
            "text/plain": [
              "<Figure size 432x432 with 1 Axes>"
            ],
            "image/png": "[encoded data removed]"
          },
          "metadata": {
            "needs_background": "light"
          }
        }
      ]
    },
    {
      "cell_type": "markdown",
      "source": [
        "Insight #8: Marital status variable was highly associated with age.\n",
        "Married people are more predispose to stroke"
      ],
      "metadata": {
        "id": "TqITk-WKAKp3"
      }
    },
    {
      "cell_type": "markdown",
      "source": [
        "KEY TAKEAWAYS\n",
        "\n",
        "\n",
        "\n",
        "\n",
        "1.  It seemed like both BMI and Age were positively correlated, though the association was not strong\n",
        "\n",
        "2.  Older patient was more likely to suffer a stroke than a younger patient.\n",
        "\n",
        "3. Higher BMI does not increase the stroke risk\n",
        "\n",
        "4. Diabetes is one of the risk factors for stroke occurrence and prediabetes patients have an increased risk of stroke.\n",
        "\n",
        "5. Higher proportion of patients who suffered from hypertension or heart disease experienced a stroke, all else being equal.\n",
        "\n",
        "6. Regardless of patient’s gender, and where they stayed, they have the same likelihood to experience stroke\n",
        "\n",
        "7. Work type variable was highly associated with age.\n",
        "\n",
        "8. Marital status variable was highly associated with age.\n"
      ],
      "metadata": {
        "id": "V8lgAbzsAT0A"
      }
    },
    {
      "cell_type": "code",
      "source": [
        ""
      ],
      "metadata": {
        "id": "OGfRKD0oW821"
      },
      "execution_count": null,
      "outputs": []
    }
  ],
  "metadata": {
    "colab": {
      "collapsed_sections": [],
      "name": "stroke_prediction.ipynb",
      "provenance": [],
      "authorship_tag": "ABX9TyPo5YHiXvunvxcBBQqStQFi",
      "include_colab_link": true
    },
    "kernelspec": {
      "display_name": "Python 3",
      "name": "python3"
    },
    "language_info": {
      "name": "python"
    }
  },
  "nbformat": 4,
  "nbformat_minor": 0
}